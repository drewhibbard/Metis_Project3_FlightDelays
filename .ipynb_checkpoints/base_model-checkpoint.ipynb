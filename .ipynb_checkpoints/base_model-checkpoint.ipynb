{
 "cells": [
  {
   "cell_type": "code",
   "execution_count": 5,
   "metadata": {},
   "outputs": [],
   "source": [
    "import numpy as np\n",
    "import pandas as pd\n",
    "import matplotlib.pyplot as plt\n",
    "import seaborn as sns\n",
    "%matplotlib inline\n",
    "sns.set()\n",
    "from sklearn.preprocessing import StandardScaler\n",
    "from sklearn.linear_model import LogisticRegression\n",
    "from sklearn.naive_bayes import GaussianNB\n",
    "import sklearn.metrics as metrics\n",
    "from sklearn.model_selection import cross_val_score\n",
    "from sklearn.model_selection import train_test_split\n",
    "pd.options.display.max_columns=None"
   ]
  },
  {
   "cell_type": "code",
   "execution_count": 2,
   "metadata": {},
   "outputs": [
    {
     "name": "stderr",
     "output_type": "stream",
     "text": [
      "/Users/drewhibbard/anaconda3/lib/python3.8/site-packages/IPython/core/interactiveshell.py:3145: DtypeWarning: Columns (2) have mixed types.Specify dtype option on import or set low_memory=False.\n",
      "  has_raised = await self.run_ast_nodes(code_ast.body, cell_name,\n"
     ]
    }
   ],
   "source": [
    "flights = pd.read_csv('flights_final.csv')"
   ]
  },
  {
   "cell_type": "code",
   "execution_count": 8,
   "metadata": {},
   "outputs": [],
   "source": [
    "flights['snow_orig'] = (flights.snow_orig > 0).astype(int)\n",
    "flights['precip_orig'] = (flights.precip_orig > 0).astype(int)"
   ]
  },
  {
   "cell_type": "code",
   "execution_count": 9,
   "metadata": {},
   "outputs": [],
   "source": [
    "features = ['snow_orig','previous_delay','precip_orig','distance','airport_delayed','airline_delayed','hour_delayed','month_delayed',\n",
    "            'weekday_delayed','model_delayed','engine_delayed','aircraft_delayed','min_temp_orig','avg_wind_orig']"
   ]
  },
  {
   "cell_type": "code",
   "execution_count": 10,
   "metadata": {},
   "outputs": [
    {
     "data": {
      "text/plain": [
       "0.4440739313303283"
      ]
     },
     "execution_count": 10,
     "metadata": {},
     "output_type": "execute_result"
    }
   ],
   "source": [
    "X = flights[features]\n",
    "y = flights['delayed']\n",
    "scaler = StandardScaler()\n",
    "\n",
    "X_scaled = scaler.fit_transform(X)\n",
    "X_train, X_test, y_train, y_test = train_test_split(X_scaled,y,test_size=0.3,\n",
    "                                                random_state=23)\n",
    "\n",
    "log = LogisticRegression(class_weight='balanced').fit(X_train,y_train)\n",
    "pred = log.predict(X_test)\n",
    "metrics.f1_score(y_test,pred)"
   ]
  },
  {
   "cell_type": "code",
   "execution_count": 24,
   "metadata": {},
   "outputs": [
    {
     "name": "stdout",
     "output_type": "stream",
     "text": [
      "AUC Score:  0.7319325869702507\n",
      "              precision    recall  f1-score   support\n",
      "\n",
      "       False       0.93      0.29      0.44    337832\n",
      "        True       0.24      0.92      0.38     82536\n",
      "\n",
      "    accuracy                           0.41    420368\n",
      "   macro avg       0.59      0.60      0.41    420368\n",
      "weighted avg       0.80      0.41      0.43    420368\n",
      "\n"
     ]
    },
    {
     "data": {
      "image/png": "[encoded data removed]",
      "text/plain": [
       "<Figure size 432x288 with 2 Axes>"
      ]
     },
     "metadata": {},
     "output_type": "display_data"
    }
   ],
   "source": [
    "log_probs = log.predict_proba(X_test)[:,1]\n",
    "log_pred = np.array([1 if p>.3 else 0 for p in log_probs])\n",
    "\n",
    "def get_metrics(model,pred,probs):\n",
    "    print('AUC Score: ',metrics.roc_auc_score(y_test,probs))\n",
    "    print(metrics.classification_report(y_test,log_pred))\n",
    "    metrics.plot_confusion_matrix(model,X_test,y_test,cmap='winter')\n",
    "    plt.grid(False)\n",
    "\n",
    "get_metrics(log,log_pred,log_probs)"
   ]
  },
  {
   "cell_type": "code",
   "execution_count": 36,
   "metadata": {},
   "outputs": [
    {
     "data": {
      "text/plain": [
       "{'snow_orig': 0.12026211384826077,\n",
       " 'previous_delay': 0.4803726154187175,\n",
       " 'precip_orig': 0.18888881495307042,\n",
       " 'distance': 0.05771094860767332,\n",
       " 'airport_delayed': 0.12922238291355645,\n",
       " 'airline_delayed': -0.055553086352235576,\n",
       " 'hour_delayed': 0.5250537388695892,\n",
       " 'month_delayed': 0.19265656091272823,\n",
       " 'weekday_delayed': 0.074402849690819,\n",
       " 'model_delayed': -0.020158253773758645,\n",
       " 'engine_delayed': 0.02596022573406028,\n",
       " 'aircraft_delayed': 0.29823706141458955,\n",
       " 'min_temp_orig': 0.02267418653718665,\n",
       " 'avg_wind_orig': 0.019632056343956983}"
      ]
     },
     "execution_count": 36,
     "metadata": {},
     "output_type": "execute_result"
    }
   ],
   "source": [
    "dict(zip(features,log.coef_[0]))"
   ]
  },
  {
   "cell_type": "code",
   "execution_count": 45,
   "metadata": {},
   "outputs": [],
   "source": [
    "new = np.array([[1,0,1,1000,.2,.2,.2,.2,.2,.2,.2,.2,20,10]])\n",
    "new_scaled = scaler.fit_transform(new)"
   ]
  },
  {
   "cell_type": "code",
   "execution_count": 47,
   "metadata": {},
   "outputs": [
    {
     "data": {
      "text/plain": [
       "array([[0.55262549, 0.44737451]])"
      ]
     },
     "execution_count": 47,
     "metadata": {},
     "output_type": "execute_result"
    }
   ],
   "source": [
    "log.predict_proba(new_scaled)"
   ]
  },
  {
   "cell_type": "code",
   "execution_count": null,
   "metadata": {},
   "outputs": [],
   "source": []
  }
 ],
 "metadata": {
  "kernelspec": {
   "display_name": "Python 3",
   "language": "python",
   "name": "python3"
  },
  "language_info": {
   "codemirror_mode": {
    "name": "ipython",
    "version": 3
   },
   "file_extension": ".py",
   "mimetype": "text/x-python",
   "name": "python",
   "nbconvert_exporter": "python",
   "pygments_lexer": "ipython3",
   "version": "3.8.2"
  }
 },
 "nbformat": 4,
 "nbformat_minor": 4
}
