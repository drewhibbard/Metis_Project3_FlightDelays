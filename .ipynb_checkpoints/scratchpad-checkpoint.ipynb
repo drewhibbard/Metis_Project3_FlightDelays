{
 "cells": [
  {
   "cell_type": "markdown",
   "metadata": {},
   "source": [
    "In this notebook I used my aircraft_scrape module to do the actual scraping and place the data into pickle files."
   ]
  },
  {
   "cell_type": "code",
   "execution_count": 1,
   "metadata": {},
   "outputs": [],
   "source": [
    "import pandas as pd\n",
    "import numpy as np\n",
    "import requests\n",
    "from bs4 import BeautifulSoup\n",
    "import re\n",
    "import time\n",
    "import numpy as np\n",
    "import pickle\n",
    "import aircraft_scrape\n",
    "from selenium import webdriver\n",
    "from selenium.webdriver.common.keys import Keys"
   ]
  },
  {
   "cell_type": "markdown",
   "metadata": {},
   "source": [
    "Get links to the airfleets.net page for all Airbus and Boeing aircraft registered in the United States.\n",
    "\n",
    "Now commented out so I don't re-scrape."
   ]
  },
  {
   "cell_type": "code",
   "execution_count": null,
   "metadata": {},
   "outputs": [],
   "source": [
    "#aircraft.get_links(['a300','a310','a318','a319','a320','a321','a330','a340','a350','a380',\n",
    "#'b717','b737','b747','b757','b767','b777','b787'],'airbus_links_all.pickle')"
   ]
  },
  {
   "cell_type": "code",
   "execution_count": 124,
   "metadata": {},
   "outputs": [],
   "source": [
    "#aircraft.get_links(['b717','b737','b747','b757','b767','b777','b787'],'boeing_links_all.pickle')"
   ]
  },
  {
   "cell_type": "code",
   "execution_count": 125,
   "metadata": {},
   "outputs": [],
   "source": [
    "#aircraft.get_links(['b737m'],'737max_links.pickle')"
   ]
  },
  {
   "cell_type": "markdown",
   "metadata": {},
   "source": [
    "Merge files from 3 separate scrapes."
   ]
  },
  {
   "cell_type": "code",
   "execution_count": 2,
   "metadata": {},
   "outputs": [],
   "source": [
    "with open('airbus_links_all.pickle','rb') as read_file:\n",
    "    a = pickle.load(read_file)\n",
    "\n",
    "with open('boeing_links_all.pickle','rb') as read_file:\n",
    "    b = pickle.load(read_file)\n",
    "\n",
    "with open('737max_links.pickle','rb') as read_file:\n",
    "    c = pickle.load(read_file)    "
   ]
  },
  {
   "cell_type": "code",
   "execution_count": 3,
   "metadata": {},
   "outputs": [
    {
     "data": {
      "text/plain": [
       "7488"
      ]
     },
     "execution_count": 3,
     "metadata": {},
     "output_type": "execute_result"
    }
   ],
   "source": [
    "links = a+b+c\n",
    "len(links)"
   ]
  },
  {
   "cell_type": "markdown",
   "metadata": {},
   "source": [
    "Obtain necessary info from each aircraft using the aircraft module:\n",
    "\n",
    "- tail number\n",
    "- manufacturer\n",
    "- model \n",
    "- engine\n",
    "- first flight date"
   ]
  },
  {
   "cell_type": "code",
   "execution_count": 113,
   "metadata": {},
   "outputs": [],
   "source": [
    "#aircraft.get_aircraft_info(links,'aircraft_info_all.pickle')"
   ]
  },
  {
   "cell_type": "code",
   "execution_count": 112,
   "metadata": {},
   "outputs": [
    {
     "name": "stdout",
     "output_type": "stream",
     "text": [
      "<class 'pandas.core.frame.DataFrame'>\n",
      "RangeIndex: 7505 entries, 0 to 7504\n",
      "Data columns (total 5 columns):\n",
      " #   Column                 Non-Null Count  Dtype \n",
      "---  ------                 --------------  ----- \n",
      " 0   tail_num               7505 non-null   object\n",
      " 1   aircraft_manufacturer  7505 non-null   object\n",
      " 2   aircraft_model         7505 non-null   object\n",
      " 3   engine                 7505 non-null   object\n",
      " 4   first_flight           7505 non-null   object\n",
      "dtypes: object(5)\n",
      "memory usage: 293.3+ KB\n"
     ]
    }
   ],
   "source": [
    "with open('aircraft_info_all.pickle','rb') as read_file:\n",
    "        a = pickle.load(read_file)\n",
    "\n",
    "df = pd.DataFrame(a)\n",
    "df.info()"
   ]
  },
  {
   "cell_type": "code",
   "execution_count": 119,
   "metadata": {},
   "outputs": [],
   "source": [
    "df.drop_duplicates('tail_num',inplace=True)"
   ]
  },
  {
   "cell_type": "markdown",
   "metadata": {},
   "source": [
    "Export to CSV for easy upload into database with pgAdmin."
   ]
  },
  {
   "cell_type": "code",
   "execution_count": 123,
   "metadata": {},
   "outputs": [],
   "source": [
    "df.to_csv('aircraft_table.csv',index=False)"
   ]
  },
  {
   "cell_type": "code",
   "execution_count": null,
   "metadata": {},
   "outputs": [],
   "source": []
  }
 ],
 "metadata": {
  "kernelspec": {
   "display_name": "Python 3",
   "language": "python",
   "name": "python3"
  },
  "language_info": {
   "codemirror_mode": {
    "name": "ipython",
    "version": 3
   },
   "file_extension": ".py",
   "mimetype": "text/x-python",
   "name": "python",
   "nbconvert_exporter": "python",
   "pygments_lexer": "ipython3",
   "version": "3.8.2"
  }
 },
 "nbformat": 4,
 "nbformat_minor": 4
}
