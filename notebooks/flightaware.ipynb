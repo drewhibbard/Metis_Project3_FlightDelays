{
 "cells": [
  {
   "cell_type": "code",
   "execution_count": 1,
   "metadata": {},
   "outputs": [
    {
     "data": {
      "text/plain": [
       "{'divide': 'warn', 'over': 'warn', 'under': 'ignore', 'invalid': 'warn'}"
      ]
     },
     "execution_count": 1,
     "metadata": {},
     "output_type": "execute_result"
    }
   ],
   "source": [
    "import sys\n",
    "from suds import null, WebFault\n",
    "from suds.client import Client\n",
    "import logging\n",
    "import pandas as pd\n",
    "import numpy as np\n",
    "import geopy.distance\n",
    "import pickle\n",
    "import datetime\n",
    "from sklearn.preprocessing import StandardScaler\n",
    "\n",
    "np.seterr(divide='ignore', invalid='ignore')"
   ]
  },
  {
   "cell_type": "code",
   "execution_count": 2,
   "metadata": {},
   "outputs": [],
   "source": [
    "username = 'drewhibbard'\n",
    "key = 'e3b96bb77a74f8670797a353cdec88fdaee2aa16'\n",
    "url = 'http://flightxml.flightaware.com/soap/FlightXML2/wsdl'\n",
    "\n",
    "logging.basicConfig(level=logging.INFO)\n",
    "api = Client(url, username=username, password=key)\n",
    "\n",
    "scaler = StandardScaler()"
   ]
  },
  {
   "cell_type": "code",
   "execution_count": 3,
   "metadata": {},
   "outputs": [],
   "source": [
    "flight = api.service.FlightInfoEx('AAL302')"
   ]
  },
  {
   "cell_type": "code",
   "execution_count": 6,
   "metadata": {},
   "outputs": [],
   "source": [
    "timestamp = flight[1][0]['filed_departuretime']"
   ]
  },
  {
   "cell_type": "code",
   "execution_count": 15,
   "metadata": {},
   "outputs": [
    {
     "data": {
      "text/plain": [
       "datetime.datetime(2020, 10, 30, 17, 10)"
      ]
     },
     "execution_count": 15,
     "metadata": {},
     "output_type": "execute_result"
    }
   ],
   "source": [
    "datetime.datetime.fromtimestamp(timestamp)"
   ]
  },
  {
   "cell_type": "code",
   "execution_count": 8,
   "metadata": {},
   "outputs": [],
   "source": [
    "tail = api.service.AirlineFlightInfo('AAL302-1603866356-airline-0320')['tailnumber']"
   ]
  },
  {
   "cell_type": "code",
   "execution_count": 5,
   "metadata": {},
   "outputs": [
    {
     "name": "stdout",
     "output_type": "stream",
     "text": [
      "('faFlightID', 'AAL302-1603866356-airline-0320')\n",
      "('ident', 'AAL302')\n",
      "('aircrafttype', 'A321')\n",
      "('filed_ete', '06:01:00')\n",
      "('filed_time', 1603866356)\n",
      "('filed_departuretime', 1604095800)\n",
      "('filed_airspeed_kts', 357)\n",
      "('filed_airspeed_mach', None)\n",
      "('filed_altitude', 0)\n",
      "('route', None)\n",
      "('actualdeparturetime', 0)\n",
      "('estimatedarrivaltime', 1604117460)\n",
      "('actualarrivaltime', 0)\n",
      "('diverted', None)\n",
      "('origin', 'KJFK')\n",
      "('destination', 'KLAX')\n",
      "('originName', 'John F Kennedy Intl')\n",
      "('originCity', 'New York, NY')\n",
      "('destinationName', 'Los Angeles Intl')\n",
      "('destinationCity', 'Los Angeles, CA')\n"
     ]
    }
   ],
   "source": [
    "for f in flight[1][0]:\n",
    "    print(f)"
   ]
  },
  {
   "cell_type": "code",
   "execution_count": 9,
   "metadata": {},
   "outputs": [
    {
     "ename": "KeyError",
     "evalue": "'N102NN'",
     "output_type": "error",
     "traceback": [
      "\u001b[0;31m---------------------------------------------------------------------------\u001b[0m",
      "\u001b[0;31mKeyError\u001b[0m                                  Traceback (most recent call last)",
      "\u001b[0;32m<ipython-input-9-ccb01a719f55>\u001b[0m in \u001b[0;36m<module>\u001b[0;34m\u001b[0m\n\u001b[0;32m----> 1\u001b[0;31m \u001b[0mengine_manufacturer_lookup\u001b[0m\u001b[0;34m[\u001b[0m\u001b[0mtail\u001b[0m\u001b[0;34m]\u001b[0m\u001b[0;34m\u001b[0m\u001b[0;34m\u001b[0m\u001b[0m\n\u001b[0m",
      "\u001b[0;31mKeyError\u001b[0m: 'N102NN'"
     ]
    }
   ],
   "source": [
    "engine_manufacturer_lookup[tail]"
   ]
  },
  {
   "cell_type": "code",
   "execution_count": 9,
   "metadata": {},
   "outputs": [],
   "source": [
    "with open('data/airport_code_converter.pickle','rb') as read_file:\n",
    "    airport_code_converter = pickle.load(read_file)\n",
    "\n",
    "with open('data/airline_code_converter.pickle','rb') as read_file:\n",
    "    airline_code_converter = pickle.load(read_file)\n",
    "    \n",
    "with open('data/airport_coord_lookup.pickle','rb') as read_file:\n",
    "    airport_coord_lookup = pickle.load(read_file)\n",
    "    \n",
    "with open('tail_engine_conv.pickle','rb') as read_file:\n",
    "    tail_engine_convert = pickle.load(read_file)\n",
    "    \n",
    "with open('data/engine_manufacturer_lookup.pickle','rb') as read_file:\n",
    "    engine_manufacturer_lookup = pickle.load(read_file)\n",
    "    \n",
    "with open('data/aircraft_age_lookup.pickle','rb') as read_file:\n",
    "    aircraft_age_lookup = pickle.load(read_file)\n",
    "    \n",
    "with open('data/aircraft_delay_lookup.pickle','rb') as read_file:\n",
    "    aircraft_delay_lookup = pickle.load(read_file)\n",
    "    \n",
    "with open('data/airline_delay_lookup.pickle','rb') as read_file:\n",
    "    airline_delay_lookup = pickle.load(read_file)\n",
    "    \n",
    "with open('data/airport_delay_lookup.pickle','rb') as read_file:\n",
    "    airport_delay_lookup = pickle.load(read_file)\n",
    "    \n",
    "with open('data/engine_delay_lookup.pickle','rb') as read_file:\n",
    "    engine_delay_lookup = pickle.load(read_file)\n",
    "    \n",
    "with open('data/hour_delay_lookup.pickle','rb') as read_file:\n",
    "    hour_delay_lookup = pickle.load(read_file)\n",
    "    \n",
    "with open('data/model_delay_lookup.pickle','rb') as read_file:\n",
    "    model_delay_lookup = pickle.load(read_file)\n",
    "    \n",
    "with open('data/month_delay_lookup.pickle','rb') as read_file:\n",
    "    month_delay_lookup = pickle.load(read_file)\n",
    "    \n",
    "with open('data/weekday_delay_lookup.pickle','rb') as read_file:\n",
    "    weekday_delay_lookup = pickle.load(read_file)\n",
    "    \n",
    "with open('data/model_coef.pickle','rb') as read_file:\n",
    "    model_coefs = pickle.load(read_file)\n",
    "    \n",
    "with open('data/scaler.pickle','rb') as read_file:\n",
    "    scaler = pickle.load(read_file)\n",
    "    \n",
    "with open('data/feature_means.pickle','rb') as read_file:\n",
    "    feature_means = pickle.load(read_file)\n",
    "    \n",
    "with open('data/airline_name_lookup.pickle','rb') as read_file:\n",
    "    airline_name_lookup = pickle.load(read_file)"
   ]
  },
  {
   "cell_type": "code",
   "execution_count": 10,
   "metadata": {},
   "outputs": [],
   "source": [
    "def get_flight_info(flight_number):\n",
    "    flight_info = {}\n",
    "    \n",
    "    flight_details = api.service.FlightInfoEx(flight_number,1)\n",
    "    fa_id = flight_details[1][0]['faFlightID']\n",
    "    flight_info['unique_id'] = fa_id\n",
    "    \n",
    "    tail = api.service.AirlineFlightInfo(fa_id)['tailnumber']\n",
    "    \n",
    "    flight_info['tail_num'] = tail\n",
    "    flight_info['aircraft_type'] = flight_details[1][0]['aircrafttype']\n",
    "    airport = airport_code_converter[flight_details[1][0]['origin']]\n",
    "    flight_info['airport_orig'] = airport\n",
    "    flight_info['airport_dest'] = airport_code_converter[flight_details[1][0]['destination']]\n",
    "    flight_info['airline'] = airline_code_converter[flight_details[1][0]['ident'][:3]]\n",
    "    \n",
    "    depart_unix_time = flight_details[1][0]['filed_departuretime']\n",
    "    depart_timestamp = datetime.datetime.fromtimestamp(depart_unix_time)\n",
    "    \n",
    "    flight_info['month'] = depart_timestamp.month\n",
    "    flight_info['hour'] = depart_timestamp.hour\n",
    "    flight_info['day_of_week'] = depart_timestamp.weekday() + 1\n",
    "    \n",
    "    weather = api.service.MetarEx(airport,howMany=1)\n",
    "    \n",
    "    flight_info['snow'] = int('snow' in weather['metar'][0]['cloud_friendly'].lower())\n",
    "    flight_info['rain'] = int('rain' in weather['metar'][0]['cloud_friendly'].lower())\n",
    "    flight_info['wind'] = round(weather['metar'][0]['wind_speed'] * 1.151,1)  # convert from nots to mph \n",
    "    flight_info['temp_f'] = round(weather['metar'][0]['temp_air']*(9/5) +32,0)  # convert from celcius to fahrenheit\n",
    "    flight_info['clouds'] = weather['metar'][0]['cloud_friendly']\n",
    "    \n",
    "    try:\n",
    "        port1_coords = airport_coord_lookup[flight_info['airport_orig']]\n",
    "        port2_coords = airport_coord_lookup[flight_info['airport_dest']]\n",
    "        flight_info['distance'] = round(geopy.distance.distance(port1_coords,port2_coords).miles,0)\n",
    "    except:\n",
    "        flight_info['distance'] = np.nan\n",
    "    \n",
    "    flight_info['orig_city'] = flight_details[1][0]['originCity']\n",
    "    flight_info['destination_city'] = flight_details[1][0]['destinationCity']\n",
    "    \n",
    "    try:\n",
    "        flight_info['engine'] = tail_engine_convert[tail]\n",
    "        flight_info['engine_manufacturer'] = engine_manufacturer_lookup[flight_info['engine']]\n",
    "    except:\n",
    "        flight_info['engine'] = np.nan\n",
    "        flight_info['engine_manufacturer'] = np.nan\n",
    "        \n",
    "    try: \n",
    "        flight_info['year_plane_made'] = aircraft_age_lookup[tail]\n",
    "        flight_info['aircraft_age'] = 2020 - aircraft_age_lookup[tail]\n",
    "    except:\n",
    "        flight_info['year_plane_made'] = np.nan\n",
    "        flight_info['aircraft_age'] = np.nan\n",
    "        \n",
    "    previous_flight = api.service.FlightInfoEx(flight_number,1)\n",
    "    if previous_flight[1][0]['actualdeparturetime'] > previous_flight[1][0]['filed_departuretime']:\n",
    "        flight_info['previous_delay'] = 1\n",
    "    else:\n",
    "        flight_info['previous_delay'] = 0\n",
    "    \n",
    "    return flight_info"
   ]
  },
  {
   "cell_type": "code",
   "execution_count": 11,
   "metadata": {},
   "outputs": [],
   "source": [
    "def get_prediction_variables(flight_dict):\n",
    "    features_no_scale = []\n",
    "    try: \n",
    "        features_no_scale.append(flight_dict['snow'])\n",
    "    except:\n",
    "        features_no_scale.append(feature_means['snow_orig'])\n",
    "        \n",
    "    try: \n",
    "        features_no_scale.append(flight_dict['previous_delay'])\n",
    "    except:\n",
    "        features_no_scale.append(feature_means['previous_delay'])\n",
    "        \n",
    "    try: \n",
    "        features_no_scale.append(flight_dict['rain'])\n",
    "    except:\n",
    "        features_no_scale.append(feature_means['precip_orig'])\n",
    "        \n",
    "        \n",
    "    features_to_scale = []\n",
    "    \n",
    "    try: \n",
    "        features_to_scale.append(flight_dict['distance'])\n",
    "    except:\n",
    "        features_to_scale.append(feature_means['distance'])\n",
    "        \n",
    "    try: \n",
    "        features_to_scale.append(airport_delay_lookup[flight_dict['airport_orig']])\n",
    "    except:\n",
    "        features_to_scale.append(feature_means['airport_delayed'])\n",
    "        \n",
    "    try: \n",
    "        features_to_scale.append(airline_delay_lookup[flight_dict['airline']])\n",
    "    except:\n",
    "        features_to_scale.append(feature_means['airline_delayed'])\n",
    "        \n",
    "    try: \n",
    "        features_to_scale.append(hour_delay_lookup[flight_dict['hour']])\n",
    "    except:\n",
    "        features_to_scale.append(feature_means['hour_delayed'])\n",
    "        \n",
    "    try: \n",
    "        features_to_scale.append(month_delay_lookup[flight_dict['month']])\n",
    "    except:\n",
    "        features_to_scale.append(feature_means['month_delayed'])\n",
    "        \n",
    "    try: \n",
    "        features_to_scale.append(weekday_delay_lookup[flight_dict['day_of_week']])\n",
    "    except:\n",
    "        features_to_scale.append(feature_means['weekday_delayed'])\n",
    "        \n",
    "    try: \n",
    "        features_to_scale.append(model_delay_lookup[flight_dict['aircraft_type']])\n",
    "    except:\n",
    "        features_to_scale.append(feature_means['model_delayed'])\n",
    "        \n",
    "    try: \n",
    "        features_to_scale.append(engine_delay_lookup[flight_dict['engine']])\n",
    "    except:\n",
    "        features_to_scale.append(feature_means['engine_delayed'])\n",
    "        \n",
    "    try: \n",
    "        features_to_scale.append(aircraft_delay_lookup[flight_dict['tail_num']])\n",
    "    except:\n",
    "        features_to_scale.append(feature_means['aircraft_delayed'])\n",
    "        \n",
    "    try: \n",
    "        features_to_scale.append(flight_dict['temp_f'])\n",
    "    except:\n",
    "        features_to_scale.append(feature_means['min_temp_orig'])\n",
    "        \n",
    "    try: \n",
    "        features_to_scale.append(flight_dict['wind'])\n",
    "    except:\n",
    "        features_to_scale.append(feature_means['avg_wing_orig'])\n",
    "    \n",
    "    arr_no_scale = np.array([features_no_scale])\n",
    "    arr_to_scale = np.array([features_to_scale])\n",
    "    scaled = scaler.transform(arr_to_scale)\n",
    "    print(np.around(np.concatenate((arr_no_scale,arr_to_scale),axis=1),2))\n",
    "    return np.concatenate([arr_no_scale,scaled],axis=1)"
   ]
  },
  {
   "cell_type": "code",
   "execution_count": 12,
   "metadata": {},
   "outputs": [],
   "source": [
    "import math\n",
    "\n",
    "def predict(features):\n",
    "    exp = sum(features[0] * model_coefs)\n",
    "    return 1/(1+math.e**(-exp))"
   ]
  },
  {
   "cell_type": "code",
   "execution_count": 13,
   "metadata": {},
   "outputs": [],
   "source": [
    "flight_info = get_flight_info('AAL302')"
   ]
  },
  {
   "cell_type": "code",
   "execution_count": 14,
   "metadata": {},
   "outputs": [
    {
     "data": {
      "text/plain": [
       "{'unique_id': 'AAL302-1603866356-airline-0320',\n",
       " 'tail_num': 'N102NN',\n",
       " 'aircraft_type': 'A321',\n",
       " 'airport_orig': 'JFK',\n",
       " 'airport_dest': 'LAX',\n",
       " 'airline': 'AA',\n",
       " 'month': 10,\n",
       " 'hour': 17,\n",
       " 'day_of_week': 5,\n",
       " 'snow': 0,\n",
       " 'rain': 1,\n",
       " 'wind': 17.3,\n",
       " 'temp_f': 52.0,\n",
       " 'clouds': 'Raining',\n",
       " 'distance': 2475.0,\n",
       " 'orig_city': 'New York, NY',\n",
       " 'destination_city': 'Los Angeles, CA',\n",
       " 'engine': 'IAE',\n",
       " 'engine_manufacturer': 'International Aero Engines',\n",
       " 'year_plane_made': 2013,\n",
       " 'aircraft_age': 7,\n",
       " 'previous_delay': 0}"
      ]
     },
     "execution_count": 14,
     "metadata": {},
     "output_type": "execute_result"
    }
   ],
   "source": [
    "flight_info"
   ]
  },
  {
   "cell_type": "code",
   "execution_count": 13,
   "metadata": {},
   "outputs": [
    {
     "data": {
      "text/plain": [
       "0.234006701020828"
      ]
     },
     "execution_count": 13,
     "metadata": {},
     "output_type": "execute_result"
    }
   ],
   "source": [
    "engine_delay_lookup[flight_info['engine']]"
   ]
  },
  {
   "cell_type": "code",
   "execution_count": 14,
   "metadata": {},
   "outputs": [
    {
     "data": {
      "text/plain": [
       "'IAE'"
      ]
     },
     "execution_count": 14,
     "metadata": {},
     "output_type": "execute_result"
    }
   ],
   "source": [
    "tail_engine_convert[flight_info['tail_num']]"
   ]
  },
  {
   "cell_type": "code",
   "execution_count": 44,
   "metadata": {},
   "outputs": [],
   "source": [
    "flight_info['distance'] = 1000"
   ]
  },
  {
   "cell_type": "code",
   "execution_count": 50,
   "metadata": {},
   "outputs": [
    {
     "data": {
      "text/plain": [
       "{'unique_id': 'UAL277-1603717332-fa-0002',\n",
       " 'tail_num': 'N485UA',\n",
       " 'aircraft_type': 'A320',\n",
       " 'airport_orig': 'IAD',\n",
       " 'airport_dest': 'SFO',\n",
       " 'airline': 'UA',\n",
       " 'month': 10,\n",
       " 'hour': 6,\n",
       " 'day_of_week': 4,\n",
       " 'snow': 0,\n",
       " 'rain': 0,\n",
       " 'wind': 4.6,\n",
       " 'temp_f': 50.0,\n",
       " 'clouds': 'Overcast skies',\n",
       " 'distance': 1000,\n",
       " 'orig_city': 'Washington, DC',\n",
       " 'destination_city': 'San Francisco, CA',\n",
       " 'engine': 'IAE',\n",
       " 'engine_manufacturer': 'International Aero Engines',\n",
       " 'year_plane_made': 2001,\n",
       " 'aircraft_age': 19,\n",
       " 'previous_delay': 0}"
      ]
     },
     "execution_count": 50,
     "metadata": {},
     "output_type": "execute_result"
    }
   ],
   "source": [
    "flight_info"
   ]
  },
  {
   "cell_type": "code",
   "execution_count": 87,
   "metadata": {},
   "outputs": [
    {
     "name": "stdout",
     "output_type": "stream",
     "text": [
      "[[0.0e+00 0.0e+00 0.0e+00 1.0e+03 2.0e-01 2.2e-01 8.0e-02 1.6e-01 2.2e-01\n",
      "  2.2e-01 2.3e-01 1.9e-01 5.0e+01 4.6e+00]]\n"
     ]
    }
   ],
   "source": [
    "features = get_prediction_variables(flight_info)"
   ]
  },
  {
   "cell_type": "code",
   "execution_count": 88,
   "metadata": {},
   "outputs": [
    {
     "data": {
      "text/plain": [
       "0.25528652792834455"
      ]
     },
     "execution_count": 88,
     "metadata": {},
     "output_type": "execute_result"
    }
   ],
   "source": [
    "predict(features)"
   ]
  },
  {
   "cell_type": "code",
   "execution_count": 77,
   "metadata": {},
   "outputs": [
    {
     "ename": "ValueError",
     "evalue": "Expected 2D array, got 1D array instead:\narray=[-5.21777902e-02 -1.70739183e-11  4.97868740e-01 -1.67598783e+00\n -1.05281717e+00  1.40393755e+00  1.38274275e+00  1.81131332e+00\n -1.95685907e-01 -1.54706650e-01 -9.60905056e-01].\nReshape your data either using array.reshape(-1, 1) if your data has a single feature or array.reshape(1, -1) if it contains a single sample.",
     "output_type": "error",
     "traceback": [
      "\u001b[0;31m---------------------------------------------------------------------------\u001b[0m",
      "\u001b[0;31mValueError\u001b[0m                                Traceback (most recent call last)",
      "\u001b[0;32m<ipython-input-77-effe9dfd9a1a>\u001b[0m in \u001b[0;36m<module>\u001b[0;34m\u001b[0m\n\u001b[0;32m----> 1\u001b[0;31m \u001b[0mscaled\u001b[0m \u001b[0;34m=\u001b[0m \u001b[0mscaler\u001b[0m\u001b[0;34m.\u001b[0m\u001b[0mtransform\u001b[0m\u001b[0;34m(\u001b[0m\u001b[0mfeatures\u001b[0m\u001b[0;34m[\u001b[0m\u001b[0;36m0\u001b[0m\u001b[0;34m]\u001b[0m\u001b[0;34m[\u001b[0m\u001b[0;36m3\u001b[0m\u001b[0;34m:\u001b[0m\u001b[0;34m]\u001b[0m\u001b[0;34m)\u001b[0m\u001b[0;34m\u001b[0m\u001b[0;34m\u001b[0m\u001b[0m\n\u001b[0m",
      "\u001b[0;32m~/anaconda3/lib/python3.8/site-packages/sklearn/preprocessing/_data.py\u001b[0m in \u001b[0;36mtransform\u001b[0;34m(self, X, copy)\u001b[0m\n\u001b[1;32m    789\u001b[0m \u001b[0;34m\u001b[0m\u001b[0m\n\u001b[1;32m    790\u001b[0m         \u001b[0mcopy\u001b[0m \u001b[0;34m=\u001b[0m \u001b[0mcopy\u001b[0m \u001b[0;32mif\u001b[0m \u001b[0mcopy\u001b[0m \u001b[0;32mis\u001b[0m \u001b[0;32mnot\u001b[0m \u001b[0;32mNone\u001b[0m \u001b[0;32melse\u001b[0m \u001b[0mself\u001b[0m\u001b[0;34m.\u001b[0m\u001b[0mcopy\u001b[0m\u001b[0;34m\u001b[0m\u001b[0;34m\u001b[0m\u001b[0m\n\u001b[0;32m--> 791\u001b[0;31m         X = self._validate_data(X, reset=False,\n\u001b[0m\u001b[1;32m    792\u001b[0m                                 \u001b[0maccept_sparse\u001b[0m\u001b[0;34m=\u001b[0m\u001b[0;34m'csr'\u001b[0m\u001b[0;34m,\u001b[0m \u001b[0mcopy\u001b[0m\u001b[0;34m=\u001b[0m\u001b[0mcopy\u001b[0m\u001b[0;34m,\u001b[0m\u001b[0;34m\u001b[0m\u001b[0;34m\u001b[0m\u001b[0m\n\u001b[1;32m    793\u001b[0m                                 \u001b[0mestimator\u001b[0m\u001b[0;34m=\u001b[0m\u001b[0mself\u001b[0m\u001b[0;34m,\u001b[0m \u001b[0mdtype\u001b[0m\u001b[0;34m=\u001b[0m\u001b[0mFLOAT_DTYPES\u001b[0m\u001b[0;34m,\u001b[0m\u001b[0;34m\u001b[0m\u001b[0;34m\u001b[0m\u001b[0m\n",
      "\u001b[0;32m~/anaconda3/lib/python3.8/site-packages/sklearn/base.py\u001b[0m in \u001b[0;36m_validate_data\u001b[0;34m(self, X, y, reset, validate_separately, **check_params)\u001b[0m\n\u001b[1;32m    418\u001b[0m                     \u001b[0;34mf\"requires y to be passed, but the target y is None.\"\u001b[0m\u001b[0;34m\u001b[0m\u001b[0;34m\u001b[0m\u001b[0m\n\u001b[1;32m    419\u001b[0m                 )\n\u001b[0;32m--> 420\u001b[0;31m             \u001b[0mX\u001b[0m \u001b[0;34m=\u001b[0m \u001b[0mcheck_array\u001b[0m\u001b[0;34m(\u001b[0m\u001b[0mX\u001b[0m\u001b[0;34m,\u001b[0m \u001b[0;34m**\u001b[0m\u001b[0mcheck_params\u001b[0m\u001b[0;34m)\u001b[0m\u001b[0;34m\u001b[0m\u001b[0;34m\u001b[0m\u001b[0m\n\u001b[0m\u001b[1;32m    421\u001b[0m             \u001b[0mout\u001b[0m \u001b[0;34m=\u001b[0m \u001b[0mX\u001b[0m\u001b[0;34m\u001b[0m\u001b[0;34m\u001b[0m\u001b[0m\n\u001b[1;32m    422\u001b[0m         \u001b[0;32melse\u001b[0m\u001b[0;34m:\u001b[0m\u001b[0;34m\u001b[0m\u001b[0;34m\u001b[0m\u001b[0m\n",
      "\u001b[0;32m~/anaconda3/lib/python3.8/site-packages/sklearn/utils/validation.py\u001b[0m in \u001b[0;36minner_f\u001b[0;34m(*args, **kwargs)\u001b[0m\n\u001b[1;32m     70\u001b[0m                           FutureWarning)\n\u001b[1;32m     71\u001b[0m         \u001b[0mkwargs\u001b[0m\u001b[0;34m.\u001b[0m\u001b[0mupdate\u001b[0m\u001b[0;34m(\u001b[0m\u001b[0;34m{\u001b[0m\u001b[0mk\u001b[0m\u001b[0;34m:\u001b[0m \u001b[0marg\u001b[0m \u001b[0;32mfor\u001b[0m \u001b[0mk\u001b[0m\u001b[0;34m,\u001b[0m \u001b[0marg\u001b[0m \u001b[0;32min\u001b[0m \u001b[0mzip\u001b[0m\u001b[0;34m(\u001b[0m\u001b[0msig\u001b[0m\u001b[0;34m.\u001b[0m\u001b[0mparameters\u001b[0m\u001b[0;34m,\u001b[0m \u001b[0margs\u001b[0m\u001b[0;34m)\u001b[0m\u001b[0;34m}\u001b[0m\u001b[0;34m)\u001b[0m\u001b[0;34m\u001b[0m\u001b[0;34m\u001b[0m\u001b[0m\n\u001b[0;32m---> 72\u001b[0;31m         \u001b[0;32mreturn\u001b[0m \u001b[0mf\u001b[0m\u001b[0;34m(\u001b[0m\u001b[0;34m**\u001b[0m\u001b[0mkwargs\u001b[0m\u001b[0;34m)\u001b[0m\u001b[0;34m\u001b[0m\u001b[0;34m\u001b[0m\u001b[0m\n\u001b[0m\u001b[1;32m     73\u001b[0m     \u001b[0;32mreturn\u001b[0m \u001b[0minner_f\u001b[0m\u001b[0;34m\u001b[0m\u001b[0;34m\u001b[0m\u001b[0m\n\u001b[1;32m     74\u001b[0m \u001b[0;34m\u001b[0m\u001b[0m\n",
      "\u001b[0;32m~/anaconda3/lib/python3.8/site-packages/sklearn/utils/validation.py\u001b[0m in \u001b[0;36mcheck_array\u001b[0;34m(array, accept_sparse, accept_large_sparse, dtype, order, copy, force_all_finite, ensure_2d, allow_nd, ensure_min_samples, ensure_min_features, estimator)\u001b[0m\n\u001b[1;32m    617\u001b[0m             \u001b[0;31m# If input is 1D raise error\u001b[0m\u001b[0;34m\u001b[0m\u001b[0;34m\u001b[0m\u001b[0;34m\u001b[0m\u001b[0m\n\u001b[1;32m    618\u001b[0m             \u001b[0;32mif\u001b[0m \u001b[0marray\u001b[0m\u001b[0;34m.\u001b[0m\u001b[0mndim\u001b[0m \u001b[0;34m==\u001b[0m \u001b[0;36m1\u001b[0m\u001b[0;34m:\u001b[0m\u001b[0;34m\u001b[0m\u001b[0;34m\u001b[0m\u001b[0m\n\u001b[0;32m--> 619\u001b[0;31m                 raise ValueError(\n\u001b[0m\u001b[1;32m    620\u001b[0m                     \u001b[0;34m\"Expected 2D array, got 1D array instead:\\narray={}.\\n\"\u001b[0m\u001b[0;34m\u001b[0m\u001b[0;34m\u001b[0m\u001b[0m\n\u001b[1;32m    621\u001b[0m                     \u001b[0;34m\"Reshape your data either using array.reshape(-1, 1) if \"\u001b[0m\u001b[0;34m\u001b[0m\u001b[0;34m\u001b[0m\u001b[0m\n",
      "\u001b[0;31mValueError\u001b[0m: Expected 2D array, got 1D array instead:\narray=[-5.21777902e-02 -1.70739183e-11  4.97868740e-01 -1.67598783e+00\n -1.05281717e+00  1.40393755e+00  1.38274275e+00  1.81131332e+00\n -1.95685907e-01 -1.54706650e-01 -9.60905056e-01].\nReshape your data either using array.reshape(-1, 1) if your data has a single feature or array.reshape(1, -1) if it contains a single sample."
     ]
    }
   ],
   "source": [
    "scaled = scaler.transform(features[0][3:])"
   ]
  },
  {
   "cell_type": "code",
   "execution_count": null,
   "metadata": {},
   "outputs": [],
   "source": []
  },
  {
   "cell_type": "code",
   "execution_count": 55,
   "metadata": {},
   "outputs": [
    {
     "data": {
      "text/plain": [
       "-1.070612989872058"
      ]
     },
     "execution_count": 55,
     "metadata": {},
     "output_type": "execute_result"
    }
   ],
   "source": [
    "sum(features[0]*model_coefs)"
   ]
  },
  {
   "cell_type": "code",
   "execution_count": 47,
   "metadata": {},
   "outputs": [
    {
     "data": {
      "text/plain": [
       "-1.070612989872058"
      ]
     },
     "execution_count": 47,
     "metadata": {},
     "output_type": "execute_result"
    }
   ],
   "source": [
    "predict(features)"
   ]
  },
  {
   "cell_type": "code",
   "execution_count": 81,
   "metadata": {},
   "outputs": [
    {
     "data": {
      "text/plain": [
       "array([[ 2.90733544,  3.29407139,  2.52601507,  1.47819742,  3.04603024,\n",
       "         0.29666814,  0.27043791,  0.19233638,  0.07556308, -0.15470665,\n",
       "        -0.02177229]])"
      ]
     },
     "execution_count": 81,
     "metadata": {},
     "output_type": "execute_result"
    }
   ],
   "source": [
    "new = np.array([[3000,.3,.3,.3,.3,.2,.2,.2,.2,50,8]])\n",
    "new_scaled = scaler.transform(new)\n",
    "new_scaled"
   ]
  },
  {
   "cell_type": "code",
   "execution_count": 82,
   "metadata": {},
   "outputs": [
    {
     "data": {
      "text/plain": [
       "1.856310622821233"
      ]
     },
     "execution_count": 82,
     "metadata": {},
     "output_type": "execute_result"
    }
   ],
   "source": [
    "a = np.array([[0,0,0]])\n",
    "predict(np.concatenate((a,new_scaled),axis=1))"
   ]
  },
  {
   "cell_type": "code",
   "execution_count": 15,
   "metadata": {},
   "outputs": [],
   "source": [
    "def get_flight_info(flight_number):\n",
    "    '''\n",
    "    Input: a flight number\n",
    "    Returns: a dictionary with all information needed for delay prediction, as well as consumer-facing variables \n",
    "    such as airport names.\n",
    "    '''\n",
    "    \n",
    "    flight_info = {}\n",
    "    \n",
    "    flight_details = api.service.FlightInfoEx(flight_number,1)\n",
    "    fa_id = flight_details[1][0]['faFlightID']  # FlightAware's unique code needed to grab other info\n",
    "    flight_info['unique_id'] = fa_id\n",
    "    \n",
    "    tail = api.service.AirlineFlightInfo(fa_id)['tailnumber']  # the FAA registration number\n",
    "    \n",
    "    flight_info['tail_num'] = tail\n",
    "    flight_info['aircraft_type'] = flight_details[1][0]['aircrafttype'] # the aircraft model, such as Boeing 737\n",
    "    airport = airport_code_converter[flight_details[1][0]['origin']]\n",
    "    flight_info['airport_orig'] = airport\n",
    "    flight_info['airport_dest'] = airport_code_converter[flight_details[1][0]['destination']]\n",
    "    flight_info['airline'] = airline_code_converter[flight_details[1][0]['ident'][:3]]\n",
    "    \n",
    "    depart_unix_time = flight_details[1][0]['filed_departuretime']\n",
    "    depart_timestamp = datetime.datetime.fromtimestamp(depart_unix_time)\n",
    "    \n",
    "    flight_info['month'] = depart_timestamp.month\n",
    "    flight_info['hour'] = depart_timestamp.hour\n",
    "    flight_info['day_of_week'] = depart_timestamp.weekday() + 1\n",
    "    \n",
    "    weather = api.service.MetarEx(airport,howMany=1)\n",
    "    \n",
    "    flight_info['snow'] = int('snow' in weather['metar'][0]['cloud_friendly'].lower())  # snow as a binary variable\n",
    "    flight_info['rain'] = int('rain' in weather['metar'][0]['cloud_friendly'].lower())  # rain as a binary variable\n",
    "    flight_info['wind'] = round(weather['metar'][0]['wind_speed'] * 1.151,1)  # convert from nots to mph \n",
    "    flight_info['temp_f'] = round(weather['metar'][0]['temp_air']*(9/5) +32,0)  # convert from celcius to fahrenheit\n",
    "    flight_info['clouds'] = weather['metar'][0]['cloud_friendly']\n",
    "    \n",
    "    # obtain the lat and long coordinates of both airports from my original data, or query the API if unavailable\n",
    "    try:\n",
    "        port1_coords = airport_coord_lookup[flight_info['airport_orig']]\n",
    "        port2_coords = airport_coord_lookup[flight_info['airport_dest']]\n",
    "        flight_info['distance'] = round(geopy.distance.distance(port1_coords,port2_coords).miles,0)\n",
    "    except:\n",
    "        orig = api.service.AirportInfo(flight_details[1][0]['origin'])\n",
    "        dest = api.service.AirportInfo(flight_details[1][0]['destination'])\n",
    "        port1_coords = (orig['latitude'],orig['longitude'])\n",
    "        port2_coords = (dest['latitude'],dest['longitude'])\n",
    "        flight_info['distance'] = round(geopy.distance.distance(port1_coords,port2_coords).miles,0)\n",
    "    \n",
    "    flight_info['orig_city'] = flight_details[1][0]['originCity']\n",
    "    flight_info['destination_city'] = flight_details[1][0]['destinationCity']\n",
    "    \n",
    "    # lookup the engine info based on tail number, or nan if tail number is not in the data source\n",
    "    try:\n",
    "        flight_info['engine'] = tail_engine_convert[tail]\n",
    "        flight_info['engine_manufacturer'] = engine_manufacturer_lookup[flight_info['engine']]\n",
    "    except:\n",
    "        flight_info['engine'] = np.nan\n",
    "        flight_info['engine_manufacturer'] = np.nan\n",
    "    \n",
    "    # same thing for the aircraft age\n",
    "    try: \n",
    "        flight_info['year_plane_made'] = aircraft_age_lookup[tail]\n",
    "        flight_info['aircraft_age'] = 2020 - aircraft_age_lookup[tail]\n",
    "    except:\n",
    "        flight_info['year_plane_made'] = np.nan\n",
    "        flight_info['aircraft_age'] = np.nan\n",
    "        \n",
    "    # determine if the previous flight of that exact aircraft was delayed by comparing actual depart time to \n",
    "    # scheduled depart time\n",
    "    \n",
    "    previous_flight = api.service.FlightInfoEx(flight_number,1)\n",
    "    if previous_flight[1][0]['actualdeparturetime'] > previous_flight[1][0]['filed_departuretime']:\n",
    "        flight_info['previous_delay'] = 1\n",
    "    else:\n",
    "        flight_info['previous_delay'] = 0\n",
    "    \n",
    "    return flight_info"
   ]
  },
  {
   "cell_type": "code",
   "execution_count": 18,
   "metadata": {},
   "outputs": [],
   "source": [
    "flight = get_flight_info('DAL1202')"
   ]
  },
  {
   "cell_type": "code",
   "execution_count": 19,
   "metadata": {},
   "outputs": [
    {
     "data": {
      "text/plain": [
       "{'unique_id': 'DAL1202-1603944633-fa-0003',\n",
       " 'tail_num': 'N815DN',\n",
       " 'aircraft_type': 'B739',\n",
       " 'airport_orig': 'MSP',\n",
       " 'airport_dest': 'SFO',\n",
       " 'airline': 'DL',\n",
       " 'month': 10,\n",
       " 'hour': 10,\n",
       " 'day_of_week': 6,\n",
       " 'snow': 0,\n",
       " 'rain': 0,\n",
       " 'wind': 6.9,\n",
       " 'temp_f': 34.0,\n",
       " 'clouds': 'Overcast skies',\n",
       " 'distance': 1589.0,\n",
       " 'orig_city': 'Minneapolis, MN',\n",
       " 'destination_city': 'San Francisco, CA',\n",
       " 'engine': nan,\n",
       " 'engine_manufacturer': nan,\n",
       " 'year_plane_made': nan,\n",
       " 'aircraft_age': nan,\n",
       " 'previous_delay': 0}"
      ]
     },
     "execution_count": 19,
     "metadata": {},
     "output_type": "execute_result"
    }
   ],
   "source": [
    "flight"
   ]
  },
  {
   "cell_type": "code",
   "execution_count": 32,
   "metadata": {},
   "outputs": [],
   "source": [
    "flights = api.service.FlightInfoEx('DAL1202',5)"
   ]
  },
  {
   "cell_type": "code",
   "execution_count": 33,
   "metadata": {},
   "outputs": [
    {
     "name": "stdout",
     "output_type": "stream",
     "text": [
      "(FlightExStruct){\n",
      "   faFlightID = \"DAL1202-1603944633-fa-0003\"\n",
      "   ident = \"DAL1202\"\n",
      "   aircrafttype = \"B739\"\n",
      "   filed_ete = \"03:52:00\"\n",
      "   filed_time = 1603944633\n",
      "   filed_departuretime = 1604157900\n",
      "   filed_airspeed_kts = 357\n",
      "   filed_airspeed_mach = None\n",
      "   filed_altitude = 0\n",
      "   route = None\n",
      "   actualdeparturetime = 0\n",
      "   estimatedarrivaltime = 1604171820\n",
      "   actualarrivaltime = 0\n",
      "   diverted = None\n",
      "   origin = \"KMSP\"\n",
      "   destination = \"KSFO\"\n",
      "   originName = \"Minneapolis/St Paul Intl\"\n",
      "   originCity = \"Minneapolis, MN\"\n",
      "   destinationName = \"San Francisco Intl\"\n",
      "   destinationCity = \"San Francisco, CA\"\n",
      " }\n",
      "(FlightExStruct){\n",
      "   faFlightID = \"DAL1202-1603858305-fa-0002\"\n",
      "   ident = \"DAL1202\"\n",
      "   aircrafttype = \"B739\"\n",
      "   filed_ete = \"03:52:00\"\n",
      "   filed_time = 1603858305\n",
      "   filed_departuretime = 1604071500\n",
      "   filed_airspeed_kts = 357\n",
      "   filed_airspeed_mach = None\n",
      "   filed_altitude = 360\n",
      "   route = \"DWN8 ABR J32 LLC LEGGS BDEGA3\"\n",
      "   actualdeparturetime = 0\n",
      "   estimatedarrivaltime = 1604085420\n",
      "   actualarrivaltime = 0\n",
      "   diverted = None\n",
      "   origin = \"KMSP\"\n",
      "   destination = \"KSFO\"\n",
      "   originName = \"Minneapolis/St Paul Intl\"\n",
      "   originCity = \"Minneapolis, MN\"\n",
      "   destinationName = \"San Francisco Intl\"\n",
      "   destinationCity = \"San Francisco, CA\"\n",
      " }\n",
      "(FlightExStruct){\n",
      "   faFlightID = \"DAL1202-1603772019-fa-0000\"\n",
      "   ident = \"DAL1202\"\n",
      "   aircrafttype = \"B739\"\n",
      "   filed_ete = \"03:37:00\"\n",
      "   filed_time = 1603983143\n",
      "   filed_departuretime = 1603985100\n",
      "   filed_airspeed_kts = 460\n",
      "   filed_airspeed_mach = None\n",
      "   filed_altitude = 300\n",
      "   route = \"DWN8 ABR J32 LLC LEGGS BDEGA3\"\n",
      "   actualdeparturetime = 1603984800\n",
      "   estimatedarrivaltime = 1603998060\n",
      "   actualarrivaltime = 1603998060\n",
      "   diverted = None\n",
      "   origin = \"KMSP\"\n",
      "   destination = \"KSFO\"\n",
      "   originName = \"Minneapolis/St Paul Intl\"\n",
      "   originCity = \"Minneapolis, MN\"\n",
      "   destinationName = \"San Francisco Intl\"\n",
      "   destinationCity = \"San Francisco, CA\"\n",
      " }\n",
      "(FlightExStruct){\n",
      "   faFlightID = \"DAL1202-1603685458-fa-0002\"\n",
      "   ident = \"DAL1202\"\n",
      "   aircrafttype = \"B739\"\n",
      "   filed_ete = \"03:52:00\"\n",
      "   filed_time = 1603897770\n",
      "   filed_departuretime = 1603898700\n",
      "   filed_airspeed_kts = 382\n",
      "   filed_airspeed_mach = None\n",
      "   filed_altitude = 340\n",
      "   route = \"DWN8 ABR J32 LLC LEGGS BDEGA3\"\n",
      "   actualdeparturetime = 1603898412\n",
      "   estimatedarrivaltime = 1603911540\n",
      "   actualarrivaltime = 1603911540\n",
      "   diverted = None\n",
      "   origin = \"KMSP\"\n",
      "   destination = \"KSFO\"\n",
      "   originName = \"Minneapolis/St Paul Intl\"\n",
      "   originCity = \"Minneapolis, MN\"\n",
      "   destinationName = \"San Francisco Intl\"\n",
      "   destinationCity = \"San Francisco, CA\"\n",
      " }\n",
      "(FlightExStruct){\n",
      "   faFlightID = \"DAL1202-1603599100-fa-0005\"\n",
      "   ident = \"DAL1202\"\n",
      "   aircrafttype = \"B739\"\n",
      "   filed_ete = \"03:52:00\"\n",
      "   filed_time = 1603811233\n",
      "   filed_departuretime = 1603812300\n",
      "   filed_airspeed_kts = 398\n",
      "   filed_airspeed_mach = None\n",
      "   filed_altitude = 360\n",
      "   route = \"DWN8 ABR J32 LLC LEGGS BDEGA3\"\n",
      "   actualdeparturetime = 1603812046\n",
      "   estimatedarrivaltime = 1603824480\n",
      "   actualarrivaltime = 1603824480\n",
      "   diverted = None\n",
      "   origin = \"KMSP\"\n",
      "   destination = \"KSFO\"\n",
      "   originName = \"Minneapolis/St Paul Intl\"\n",
      "   originCity = \"Minneapolis, MN\"\n",
      "   destinationName = \"San Francisco Intl\"\n",
      "   destinationCity = \"San Francisco, CA\"\n",
      " }\n"
     ]
    }
   ],
   "source": [
    "for f in flights[1]:\n",
    "    print(f)"
   ]
  },
  {
   "cell_type": "code",
   "execution_count": 37,
   "metadata": {},
   "outputs": [],
   "source": [
    "time = flights[1][4]['filed_departuretime']"
   ]
  },
  {
   "cell_type": "code",
   "execution_count": 39,
   "metadata": {},
   "outputs": [
    {
     "data": {
      "text/plain": [
       "datetime.date(2020, 10, 27)"
      ]
     },
     "execution_count": 39,
     "metadata": {},
     "output_type": "execute_result"
    }
   ],
   "source": [
    "datetime.datetime.fromtimestamp(time).date()"
   ]
  },
  {
   "cell_type": "code",
   "execution_count": 41,
   "metadata": {},
   "outputs": [
    {
     "data": {
      "text/plain": [
       "datetime.date(2020, 10, 29)"
      ]
     },
     "execution_count": 41,
     "metadata": {},
     "output_type": "execute_result"
    }
   ],
   "source": [
    "datetime.datetime.today().date()"
   ]
  },
  {
   "cell_type": "code",
   "execution_count": 59,
   "metadata": {},
   "outputs": [],
   "source": [
    "for i in range(len(flights[1])):\n",
    "    if datetime.datetime.fromtimestamp(flights[1][i]['filed_departuretime']).date() == datetime.datetime.today().date():\n",
    "        my_flight = flights[1][i]\n",
    "        break\n",
    "    else:\n",
    "        my_flight = flights[1][0]"
   ]
  },
  {
   "cell_type": "code",
   "execution_count": 60,
   "metadata": {},
   "outputs": [
    {
     "data": {
      "text/plain": [
       "datetime.datetime(2020, 10, 29, 10, 25)"
      ]
     },
     "execution_count": 60,
     "metadata": {},
     "output_type": "execute_result"
    }
   ],
   "source": [
    "datetime.datetime.fromtimestamp(my_flight['filed_departuretime'])"
   ]
  },
  {
   "cell_type": "code",
   "execution_count": 55,
   "metadata": {},
   "outputs": [
    {
     "data": {
      "text/plain": [
       "True"
      ]
     },
     "execution_count": 55,
     "metadata": {},
     "output_type": "execute_result"
    }
   ],
   "source": [
    "datetime.datetime.fromtimestamp(flights[1][2]['filed_departuretime']).date() == datetime.datetime.today().date()"
   ]
  },
  {
   "cell_type": "code",
   "execution_count": 56,
   "metadata": {},
   "outputs": [
    {
     "data": {
      "text/plain": [
       "2"
      ]
     },
     "execution_count": 56,
     "metadata": {},
     "output_type": "execute_result"
    }
   ],
   "source": [
    "len(flights)"
   ]
  },
  {
   "cell_type": "code",
   "execution_count": 62,
   "metadata": {},
   "outputs": [
    {
     "data": {
      "text/plain": [
       "<suds.sudsobject.FlightExStruct at 0x7fd4182d3970>"
      ]
     },
     "execution_count": 62,
     "metadata": {},
     "output_type": "execute_result"
    }
   ],
   "source": [
    "flights[1][0]"
   ]
  },
  {
   "cell_type": "code",
   "execution_count": 63,
   "metadata": {},
   "outputs": [
    {
     "name": "stdout",
     "output_type": "stream",
     "text": [
      "('faFlightID', 'DAL1202-1603944633-fa-0003')\n",
      "('ident', 'DAL1202')\n",
      "('aircrafttype', 'B739')\n",
      "('filed_ete', '03:52:00')\n",
      "('filed_time', 1603944633)\n",
      "('filed_departuretime', 1604157900)\n",
      "('filed_airspeed_kts', 357)\n",
      "('filed_airspeed_mach', None)\n",
      "('filed_altitude', 0)\n",
      "('route', None)\n",
      "('actualdeparturetime', 0)\n",
      "('estimatedarrivaltime', 1604171820)\n",
      "('actualarrivaltime', 0)\n",
      "('diverted', None)\n",
      "('origin', 'KMSP')\n",
      "('destination', 'KSFO')\n",
      "('originName', 'Minneapolis/St Paul Intl')\n",
      "('originCity', 'Minneapolis, MN')\n",
      "('destinationName', 'San Francisco Intl')\n",
      "('destinationCity', 'San Francisco, CA')\n"
     ]
    }
   ],
   "source": [
    "for f in flights[1][0]:\n",
    "    print(f)"
   ]
  },
  {
   "cell_type": "code",
   "execution_count": 64,
   "metadata": {},
   "outputs": [
    {
     "data": {
      "text/plain": [
       "{'ASA': 'AS',\n",
       " 'AAY': 'G4',\n",
       " 'AAL': 'AA',\n",
       " 'DAL': 'DL',\n",
       " 'FFT': 'F9',\n",
       " 'HAL': 'HA',\n",
       " 'JBU': 'B6',\n",
       " 'SWA': 'WN',\n",
       " 'NKS': 'NK',\n",
       " 'SCX': 'SY',\n",
       " 'UAL': 'UA'}"
      ]
     },
     "execution_count": 64,
     "metadata": {},
     "output_type": "execute_result"
    }
   ],
   "source": [
    "with open('data/airline_code_converter.pickle','rb') as read_file:\n",
    "    a = pickle.load(read_file)\n",
    "    \n",
    "a"
   ]
  },
  {
   "cell_type": "code",
   "execution_count": 65,
   "metadata": {},
   "outputs": [
    {
     "data": {
      "text/plain": [
       "{'AS': 'Alaska Airlines',\n",
       " 'G4': 'Allegiant Air',\n",
       " 'AA': 'American Airlines',\n",
       " 'DL': 'Delta Air Lines',\n",
       " 'F9': 'Frontier Airlines',\n",
       " 'HA': 'Hawaiian Airlines',\n",
       " 'B6': 'JetBlue Airways',\n",
       " 'WN': 'Southwest Airlines',\n",
       " 'NK': 'Spirit Airlines',\n",
       " 'SY': 'Sun Country Airlines',\n",
       " 'UA': 'United Airlines'}"
      ]
     },
     "execution_count": 65,
     "metadata": {},
     "output_type": "execute_result"
    }
   ],
   "source": [
    "with open('data/airline_name_lookup.pickle','rb') as read_file:\n",
    "    b = pickle.load(read_file)\n",
    "    \n",
    "b"
   ]
  },
  {
   "cell_type": "code",
   "execution_count": null,
   "metadata": {},
   "outputs": [],
   "source": []
  }
 ],
 "metadata": {
  "kernelspec": {
   "display_name": "Python 3",
   "language": "python",
   "name": "python3"
  },
  "language_info": {
   "codemirror_mode": {
    "name": "ipython",
    "version": 3
   },
   "file_extension": ".py",
   "mimetype": "text/x-python",
   "name": "python",
   "nbconvert_exporter": "python",
   "pygments_lexer": "ipython3",
   "version": "3.8.2"
  }
 },
 "nbformat": 4,
 "nbformat_minor": 4
}
